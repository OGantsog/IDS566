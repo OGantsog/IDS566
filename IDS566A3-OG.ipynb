{
 "cells": [
  {
   "cell_type": "code",
   "execution_count": 1,
   "metadata": {
    "collapsed": true
   },
   "outputs": [],
   "source": [
    "import numpy as np\n",
    "import pandas as pd\n",
    "from sklearn.feature_extraction.text import CountVectorizer, TfidfVectorizer, TfidfTransformer\n",
    "from sklearn.cluster import KMeans, MiniBatchKMeans\n",
    "from sklearn.decomposition import TruncatedSVD\n",
    "%matplotlib inline\n",
    "import matplotlib.pyplot as plt"
   ]
  },
  {
   "cell_type": "code",
   "execution_count": 2,
   "metadata": {},
   "outputs": [
    {
     "name": "stdout",
     "output_type": "stream",
     "text": [
      "Q1: Tf-idf matrix: (57650, 9823)\n"
     ]
    }
   ],
   "source": [
    "#Q1: Load all data and vectorize it with tf-idf vectorization.\n",
    "df = pd.read_csv(\"songdata.csv\", delimiter=\",\")\n",
    "vect = TfidfVectorizer(min_df =20, stop_words = 'english')\n",
    "\n",
    "X = vect.fit_transform(df['text'])\n",
    "print(\"Q1: Tf-idf matrix:\", X.shape)"
   ]
  },
  {
   "cell_type": "code",
   "execution_count": null,
   "metadata": {
    "collapsed": true
   },
   "outputs": [],
   "source": [
    "#Q2: Apply a clustering algorithm with 3 clusters and find top 5 closest documents to each cluster’s centroid. \n",
    "#Analyze your result. \n",
    "from scipy.spatial import distance\n",
    "kmeans = KMeans(3, random_state = 234, n_jobs = 2)\n",
    "clusters = kmeans.fit_predict(X)\n",
    "\n",
    "D = kmeans.transform(X)\n",
    "print(\"Q2: \")\n",
    "for i in range(3):\n",
    "    order = D[:,i].argsort()[::]\n",
    "    print(df['text'][order[:5]])\n",
    "\n",
    "    \n",
    "print(\"One thing that strike first after top 5 closest documents are printed is that all have same foreign song as closest.\")\n",
    "print(\"The main topic of first cluster is mostly about you got to beleive me, give me second chance.\")\n",
    "print(\"The main topic of second cluster is about people or you are saying something about you, has word baby a lot.\")\n",
    "print(\"The third cluster has all chorus with love.\")"
   ]
  },
  {
   "cell_type": "code",
   "execution_count": 9,
   "metadata": {},
   "outputs": [
    {
     "name": "stdout",
     "output_type": "stream",
     "text": [
      "Q3: Truncated SVD matrix:  (57650, 50)\n",
      "['love' 'don' 'know' 'll' 'just']\n",
      "['love' 'heart' 'true' 'forever' 'need']\n",
      "['oh' 'baby' 'yeah' 'want' 'ooh']\n",
      "['oh' 'day' 'll' 'night' 'life']\n",
      "['don' 'oh' 'want' 'know' 'need']\n",
      "['ll' 'baby' 'let' 'come' 'heart']\n",
      "['la' 'll' 'let' 'want' 'baby']\n",
      "['want' 'yeah' 'let' 'come' 'christmas']\n",
      "['ll' 'yeah' 'gonna' 'let' 'know']\n",
      "['let' 'don' 'come' 'like' 'wanna']\n",
      "['got' 'let' 've' 'want' 'gonna']\n",
      "['yeah' 've' 'let' 'know' 'heart']\n",
      "['gonna' 'yeah' 'time' 'away' 'way']\n",
      "['christmas' 'don' 'come' 'got' 'home']\n",
      "['christmas' 'time' 'just' 'let' 'girl']\n",
      "['know' 'christmas' 'chorus' 'gonna' 'lord']\n",
      "['come' 'hey' 'know' 'girl' 'home']\n",
      "['come' 'like' 'feel' 'home' 'know']\n",
      "['chorus' 'time' 'come' 'say' 'ain']\n",
      "['know' 'man' 'let' 'good' 'time']\n",
      "['hey' 'like' 'feel' 'way' 'christmas']\n",
      "['time' 'hey' 'don' 'heart' 'world']\n",
      "['life' 'need' 'world' 'wanna' 'believe']\n",
      "['night' 'need' 'tonight' 'wanna' 'right']\n",
      "['wanna' 'say' 'heart' 'tell' 'night']\n",
      "['say' 'night' 'tonight' 'need' 'heart']\n",
      "['home' 've' 'long' 'way' 'like']\n",
      "['need' 'home' 'wanna' 'just' 'heart']\n",
      "['way' 'heart' 'feel' 'girl' 'home']\n",
      "['say' 'need' 'like' 'na' 'girl']\n",
      "['na' 'man' 'believe' 'need' 'life']\n",
      "['na' 'little' 'just' 'way' 'day']\n",
      "['good' 'life' 'away' 'feel' 'heart']\n",
      "['life' 'heart' 'ain' 'just' 'girl']\n",
      "['little' 'life' 'home' 'tonight' 'going']\n",
      "['believe' 'good' 'god' 'away' 'got']\n",
      "['little' 'believe' 'long' 'need' 'life']\n",
      "['tonight' 'make' 'away' 'right' 'little']\n",
      "['feel' 'tell' 'long' 'make' 'day']\n",
      "['long' 'world' 'gone' 'ooh' 'ain']\n",
      "['home' 'say' 'make' 'day' 'night']\n",
      "['tell' 'day' 'life' 'tonight' 'woman']\n",
      "['ooh' 'feel' 'life' 'blue' 'lord']\n",
      "['tell' 'long' 'good' 'world' 'rock']\n",
      "['world' 'ooh' 'day' 'tonight' 'like']\n",
      "['hold' 'better' 'night' 'dream' 'make']\n",
      "['right' 'blue' 'ain' 'way' 'tell']\n",
      "['make' 'dream' 'rock' 'tonight' 've']\n",
      "['make' 'gone' 'woman' 'got' 'better']\n",
      "['hold' 'dance' 'dream' 'tell' 'song']\n",
      "Q3: Because almost all songs are about love, the top 5 features of the components are all about love, too\n",
      "And number 50 for components does not give clear distinction among the components\n",
      "Mostly topics are around love, want, christmas, know, home, good, tonight, and tell.\n"
     ]
    }
   ],
   "source": [
    "#Q3: Reduce the dimension to 50 components using LSA and report top 5 features per component. Analyze your result. \n",
    "lsa = TruncatedSVD(50)\n",
    "Z = lsa.fit_transform(X)\n",
    "print(\"Q3: Truncated SVD matrix: \", Z.shape)\n",
    "\n",
    "vocab = np.array(vect.get_feature_names())\n",
    "\n",
    "for i in range(Z.shape[1]):\n",
    "    order = np.abs(lsa.components_[i].argsort())[::-1]\n",
    "    print(vocab[order[:5]])\n",
    "    \n",
    "print(\"Q3: Because almost all songs are about love, the top 5 features of the components are all about love, too\")\n",
    "print(\"And number 50 for components does not give clear distinction among the components\")\n",
    "print(\"Mostly topics are around love, want, christmas, know, home, good, tonight, and tell.\")"
   ]
  },
  {
   "cell_type": "code",
   "execution_count": null,
   "metadata": {
    "collapsed": true
   },
   "outputs": [],
   "source": [
    "#Q4: Run a clustering algorithm with 2-10 clusters on low dimension features and select the best number of clusters using elbow \n",
    "#method. \n",
    "inertia = []\n",
    "\n",
    "#vect = TfidfVectorizer(min_df = 20, stop_words = 'english')\n",
    "#X = vect.fit_transform(df['text'])\n",
    "\n",
    "#lsa = TruncatedSVD(50)\n",
    "#Z = lsa.fit_transform(X)\n",
    "\n",
    "for i in range(2, 10):\n",
    "    kmeans = KMeans(i, n_jobs = 4)\n",
    "    kmeans.fit_predict(Z)\n",
    "    inertia.append(kmeans.inertia_)\n",
    "\n",
    "print(\"Q4: Inertia\", inertia)\n",
    "plt.title(\"Kmeans cluster number vs Inertia\")\n",
    "plt.plot(range(2, 10), inertia)\n"
   ]
  },
  {
   "cell_type": "code",
   "execution_count": 11,
   "metadata": {},
   "outputs": [
    {
     "name": "stdout",
     "output_type": "stream",
     "text": [
      "Q5: From the elbow method graph, we see that inertia is decreasing as the k increases.\n",
      "But there is a slightly slower decrease at k=5, so I chose 5 as best number.\n",
      "(5, 50)\n",
      "Top documents per cluster:\n",
      "16404    You should never underestimate the power of  \\...\n",
      "21238    As I walk through the valley where I harvest m...\n",
      "32918    L. Ron Hoover:  \\nWelcome to the First Church ...\n",
      "37918    [Alan Jackson]  \\nThe sun is hot and that old ...\n",
      "29200    If you're in the right city at the right time ...\n",
      "Name: text, dtype: object\n",
      "8546     The sun rises and sets on time every day of th...\n",
      "36207    Settle down, class  \\nNow you've passed  \\nYou...\n",
      "55419    Reuben James in my song you'll live again  \\nA...\n",
      "36986    If magic is all we've ever know  \\nThen it's e...\n",
      "3046     It was in ancient history, four thousand B.C. ...\n",
      "Name: text, dtype: object\n",
      "586      Oh-oh  \\n  \\nWalking in the midnight rain  \\nT...\n",
      "36373    (mick, I've got a...)  \\nThere must be one mil...\n",
      "44871    (Written by J. Livingston and R. Evans)  \\nWe'...\n",
      "5033     My name should be trouble  \\nMy name should be...\n",
      "26691    Straight out of some story  \\nYou walk in in a...\n",
      "Name: text, dtype: object\n",
      "22858    La la l'amour  \\nGotta a lotta la la l'amour  ...\n",
      "19410    There is a rose in Spanish Harlem  \\nA red ros...\n",
      "43785    (with Carole Bayer Sager)  \\n  \\nYou and me  \\...\n",
      "40373    As I look him deep in the eyes  \\nI see only d...\n",
      "14264    Long ago the brothers fought  \\nBut still the ...\n",
      "Name: text, dtype: object\n",
      "3014     Looks like I'll go on through my life bound in...\n",
      "45334    In the shadows  \\nYou get to know your lover m...\n",
      "17113    Can't get enough of this everyday love  \\nCan'...\n",
      "41864    You can be my lover  \\nI can be your love  \\nY...\n",
      "9089     Yonder mountain so high,  \\nI can't make it al...\n",
      "Name: text, dtype: object\n",
      "Compared to Q2 clusters, there is no foreign songs near to cluster centers.\n",
      "The songs are completely different from Q2 cluster songs.\n",
      "Third cluster is about christmas, the first cluster is all about can't have you any more.\n"
     ]
    }
   ],
   "source": [
    "#Q5: Use the best number of clusters that you have found and find top 5 closest documents to each cluster’s centroid. \n",
    "#Compare your result with Q2 \n",
    "n = 5\n",
    "kmeans = KMeans(n, random_state = 234, n_jobs = 2)\n",
    "clusters = kmeans.fit_predict(Z)\n",
    "\n",
    "print(\"Q5: From the elbow method graph, we see that inertia is decreasing as the k increases.\")\n",
    "print(\"But there is a slightly slower decrease at k=5, so I chose 5 as best number.\")\n",
    "print(kmeans.cluster_centers_.shape)\n",
    "print(\"Top documents per cluster:\")\n",
    "\n",
    "D = kmeans.transform(Z)\n",
    "\n",
    "for i in range(n):\n",
    "    order = D[:,i].argsort()[::]\n",
    "    print(df['text'][order[:5]])\n",
    "\n",
    "print(\"Compared to Q2 clusters, there is no foreign songs near to cluster centers.\")\n",
    "print(\"The songs are completely different from Q2 cluster songs.\")\n",
    "print(\"The fifth cluster is all about can't have you any more.\")"
   ]
  },
  {
   "cell_type": "code",
   "execution_count": 12,
   "metadata": {},
   "outputs": [
    {
     "name": "stdout",
     "output_type": "stream",
     "text": [
      "Q6: Ignoring the colors, clusters seems to be parts of one big cluster.\n",
      "But analyzing further, the first cluster is centered at the origin having diamond shape.\n",
      "The upper cluster is a little further from center and spread upwards, having straight base.\n",
      "The bottom cluster is further from center almost like horizontal spread to the right.\n"
     ]
    },
    {
     "data": {
      "image/png": "[encoded data removed]",
      "text/plain": [
       "<matplotlib.figure.Figure at 0x2843b828320>"
      ]
     },
     "metadata": {},
     "output_type": "display_data"
    }
   ],
   "source": [
    "#Q6: Reduce dimension to 2 components and find 3 clusters in data and plot them using a scatter plot with different colors. \n",
    "#Analyze your result.\n",
    "\n",
    "#vect = TfidfVectorizer(min_df = 30, stop_words = 'english')\n",
    "#X = vect.fit_transform(df['text'])\n",
    "\n",
    "colors = np.array(['r', 'g', 'b'])\n",
    "lsa = TruncatedSVD(2)\n",
    "Z = lsa.fit_transform(X)\n",
    "\n",
    "kmeans = KMeans(3, init = 'random')\n",
    "clusters = kmeans.fit_predict(Z)\n",
    "plt.scatter(Z[:, 0], Z[:, 1], 5, colors[clusters])\n",
    "\n",
    "print(\"Q6: Ignoring the colors, clusters seems to be parts of one big cluster.\")\n",
    "print(\"But analyzing further, the first cluster is centered at the origin having diamond shape.\")\n",
    "print(\"The upper cluster is a little further from center and spread upwards, having straight base.\")\n",
    "print(\"The bottom cluster is further from center almost like horizontal spread to the right.\")"
   ]
  },
  {
   "cell_type": "code",
   "execution_count": null,
   "metadata": {
    "collapsed": true
   },
   "outputs": [],
   "source": []
  }
 ],
 "metadata": {
  "kernelspec": {
   "display_name": "Python 3",
   "language": "python",
   "name": "python3"
  },
  "language_info": {
   "codemirror_mode": {
    "name": "ipython",
    "version": 3
   },
   "file_extension": ".py",
   "mimetype": "text/x-python",
   "name": "python",
   "nbconvert_exporter": "python",
   "pygments_lexer": "ipython3",
   "version": "3.6.3"
  }
 },
 "nbformat": 4,
 "nbformat_minor": 2
}
